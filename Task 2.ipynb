{
 "cells": [
  {
   "cell_type": "markdown",
   "id": "9be7d75a",
   "metadata": {},
   "source": [
    "<h1 align='Center'>\n",
    "<img src=\"https://assets.digihaul.com/images/logo.png\" width=\"350\" height=\"550\" align=\"center\"/>\n",
    "</h1>\n",
    "<h3 align='center'> Task 2</h3>"
   ]
  },
  {
   "cell_type": "markdown",
   "id": "d8b55809",
   "metadata": {},
   "source": [
    "### Problem Statement\n",
    "\n",
    "Road haulage is essential for the people and businesses of the UK. Approximately 90% of all goods transported by land in Great Britain are moved directly by road. DigiHaul is a digital transport business, specialising in managing, consolidating and integrating data from both Carriers and Shippers to deliver seamless end-to-end logistics service.\n",
    "Shippers book shipments on the DigiHaul platform, detailing the scheduled collection and delivery time windows / locations and required vehicle types for carriers to consider. Once a carrier accepts a job and collection is scheduled, DigiHaul’s driver app facilitates real-time tracking of shipments through GPS signals, subject to carriers granting permissions for location logging.\n"
   ]
  },
  {
   "cell_type": "markdown",
   "id": "1f23e46e",
   "metadata": {},
   "source": [
    "#### Python packages:\n",
    "\n",
    "- data handling packages   : pandas, regex, numpy, math\n",
    "- modelling packages       : sklearn\n",
    "- geolocation packages     : google maps"
   ]
  },
  {
   "cell_type": "code",
   "execution_count": 404,
   "id": "b6f3a3a4",
   "metadata": {},
   "outputs": [],
   "source": [
    "# Importing data handling python packages\n",
    "\n",
    "import pandas as pd\n",
    "import re\n",
    "import googlemaps\n",
    "import numpy as np\n",
    "from math import radians\n",
    "import warnings\n",
    "import matplotlib.pyplot as plt\n",
    "from sklearn.neighbors import DistanceMetric\n",
    "import googlemaps\n",
    "\n",
    "dist = DistanceMetric.get_metric(\"haversine\")\n",
    "g_client = googlemaps.Client(key=\"Enter your key here\")\n",
    "\n",
    "warnings.filterwarnings(\"ignore\")"
   ]
  },
  {
   "cell_type": "markdown",
   "id": "435b89d6",
   "metadata": {},
   "source": [
    "### Input data:\n",
    "\n",
    "Three datasets are provided for working with the tasks and each one of them are in .csv format\n",
    "\n",
    "1. gps_data.csv: contains GPS logging(latitude and longitude) for each shipment along with the timestamp details\n",
    "\n",
    "2. shipment.csv: contains all the details about each shipment initiated, with the details of shipper, details of carries, collection and delivery - postcode, latitude, longitude and time\n",
    "\n",
    "3. shipment_gps_data.csv: contains only shipments for which valid GPS information is captured"
   ]
  },
  {
   "cell_type": "code",
   "execution_count": 405,
   "id": "5a3902b2",
   "metadata": {},
   "outputs": [],
   "source": [
    "# reading in input datasets\n",
    "\n",
    "gps_data = pd.read_csv(\"./Test/GPS_data.csv\")\n",
    "shipment = pd.read_csv(\"./Test/Shipment_bookings.csv\")\n",
    "valid_ship_gps = pd.read_csv(\n",
    "    \"./shipment_gps_data.csv\"\n",
    ")  # shipments with valid GPS logs (re-using data created from Task 1)"
   ]
  },
  {
   "cell_type": "markdown",
   "id": "51a2a427",
   "metadata": {},
   "source": [
    "### Pre-processing:\n",
    "\n",
    "1. Time stamp formatting: time-stamp details captured by the system are not in a recognizable format for the python to handle and hence it is converted to suit python needs\n",
    "\n",
    "2. Datatype conversion: all the shipment numbers are type casted to 'string' data type for sanitary reasons\n",
    "\n",
    "3. Missing data: Records with no GPS details(latitude and longitude measures missing) are removed from the datset"
   ]
  },
  {
   "cell_type": "code",
   "execution_count": 406,
   "id": "fce80703",
   "metadata": {},
   "outputs": [],
   "source": [
    "#### Formatting time-stamp columns and performing datatype conversion\n",
    "\n",
    "\n",
    "def format_time_stamp(input_col_name, output_col_name, file):\n",
    "    \"\"\"\n",
    "    Function to format the input time stamp to python understandable format\n",
    "    Args:\n",
    "        input_col_name (str): name of input column with time-stamp\n",
    "        output_col_name(str): name of new output column to fill the generated output\n",
    "        file           (str): file name to chose the correct dataframe to use\n",
    "    Returns:\n",
    "        Changes the dataframes with new columns\n",
    "    \"\"\"\n",
    "    if file == \"gps\":\n",
    "        gps_data[output_col_name] = pd.to_datetime(\n",
    "            gps_data[input_col_name].apply(\n",
    "                lambda x: (\n",
    "                    re.sub(\"T\", \" \", x[:-9])\n",
    "                    if \"Z\" not in x\n",
    "                    else re.sub(\"T\", \" \", x[:-5])\n",
    "                )\n",
    "            )\n",
    "        )\n",
    "    else:\n",
    "        shipment[output_col_name] = pd.to_datetime(\n",
    "            shipment[input_col_name].apply(\n",
    "                lambda x: (\n",
    "                    re.sub(\"T\", \" \", x[:-9])\n",
    "                    if \"Z\" not in x\n",
    "                    else re.sub(\"T\", \" \", x[:-5])\n",
    "                )\n",
    "            )\n",
    "        )\n",
    "\n",
    "\n",
    "format_time_stamp(\"RECORD_TIMESTAMP\", \"FORMATTED_GPS_TIMESTAMP\", \"gps\")\n",
    "format_time_stamp(\n",
    "    \"LAST_DELIVERY_SCHEDULE_LATEST\", \"FORMATTED_DELIVERY_SCHEDULE_LATEST\", \"shipment\"\n",
    ")\n",
    "format_time_stamp(\n",
    "    \"LAST_DELIVERY_SCHEDULE_EARLIEST\",\n",
    "    \"FORMATTED_DELIVERY_SCHEDULE_EARLIEST\",\n",
    "    \"shipment\",\n",
    ")\n",
    "format_time_stamp(\n",
    "    \"FIRST_COLLECTION_SCHEDULE_LATEST\", \"FROMATTED_FIRST_COLLECTION_LATEST\", \"shipment\"\n",
    ")\n",
    "format_time_stamp(\n",
    "    \"FIRST_COLLECTION_SCHEDULE_EARLIEST\",\n",
    "    \"FROMATTED_FIRST_COLLECTION_EARLIEST\",\n",
    "    \"shipment\",\n",
    ")\n",
    "\n",
    "\n",
    "# datatype conversion\n",
    "shipment[\"SHIPMENT_NUMBER\"] = shipment[\"SHIPMENT_NUMBER\"].astype(\"str\")\n",
    "gps_data[\"SHIPMENT_NUMBER\"] = gps_data[\"SHIPMENT_NUMBER\"].astype(\"str\")\n",
    "\n",
    "\n",
    "# removing shipments were LAT LON details are not logged in GPS data\n",
    "gps_data = gps_data[gps_data[\"LON\"] != 0.0]"
   ]
  },
  {
   "cell_type": "markdown",
   "id": "66416e73",
   "metadata": {},
   "source": [
    "## Task 2 \n",
    "\n",
    "Timely communication of potential delays is crucial for shippers. During the 3-month period from 1st Oct to 31st Dec 2023, which shipper(s) should be notified automatically regarding potential late delivery of which shipments, and at what times?\n",
    "\n",
    "\n",
    "Steps:\n",
    "1. Getting all GPS logs for valid delivery data from the previous question\n",
    "2. Use Google distance API to calculate distance and ETA between current geo location and destination location\n",
    "3. Constraint and sample creation\n",
    "4. Analysis to identify the threshold for allowed range of time difference between target time and google ETA \n",
    "5. Whom and when to send?"
   ]
  },
  {
   "cell_type": "markdown",
   "id": "9b59cb04",
   "metadata": {},
   "source": [
    "### Step 1:  Getting all GPS logs for valid delivery data from the previous question\n",
    "\n",
    "From the previous questions we have acquired the profiled data based on delivery and GPS logs,\n",
    "Advanced delivery, Threshold delivery, Late delivert and Imcomplete logs. All the GPS logs available for these shipments are gathered by joining with GPS dataset"
   ]
  },
  {
   "cell_type": "code",
   "execution_count": 407,
   "id": "33462bb2",
   "metadata": {},
   "outputs": [],
   "source": [
    "# Subset only required columns and join the GPS data\n",
    "valid_ship_num = pd.DataFrame(\n",
    "    valid_ship_gps[\n",
    "        [\n",
    "            \"SHIPMENT_NUMBER\",\n",
    "            \"LAST_DELIVERY_LATITUDE\",\n",
    "            \"LAST_DELIVERY_LONGITUDE\",\n",
    "            \"FORMATTED_DELIVERY_SCHEDULE_LATEST\",\n",
    "            \"DELIVERED_LATE_BY_TIME?\",\n",
    "            \"INDICATOR\",\n",
    "        ]\n",
    "    ]\n",
    ")\n",
    "gps_shipment_data = valid_ship_num.merge(gps_data, how=\"left\", on=\"SHIPMENT_NUMBER\")\n",
    "\n",
    "gps_shipment_data[\"FORMATTED_DELIVERY_SCHEDULE_LATEST\"] = pd.to_datetime(\n",
    "    gps_shipment_data[\"FORMATTED_DELIVERY_SCHEDULE_LATEST\"]\n",
    ")"
   ]
  },
  {
   "cell_type": "markdown",
   "id": "fbac54b2",
   "metadata": {},
   "source": [
    "### Step 2: Use Google distance API to calculate distance and ETA between current geo location and destination location\n",
    "\n",
    "- Method to connect to Google distance API to retreive distance and ETA between geo locations\n",
    "- Method to calculate haversine distance between geo locations\n",
    "- Method to retreive ETA using OSRM between two geo locations\n",
    "\n"
   ]
  },
  {
   "cell_type": "code",
   "execution_count": 408,
   "id": "e18820e5",
   "metadata": {},
   "outputs": [],
   "source": [
    "def get_transit_details_google(x):\n",
    "    \"\"\"\n",
    "    Function to do API call to Google Distance API to retreive distance and ETA between two locations\n",
    "    Args:\n",
    "        x (row iter): row iter from the lambda function call\n",
    "    Returns:\n",
    "        distance in km\n",
    "        time in mins\n",
    "    \"\"\"\n",
    "    source = str(x[\"LAT\"]) + \",\" + str(x[\"LON\"])\n",
    "    destination = (\n",
    "        str(x[\"LAST_DELIVERY_LATITUDE\"]) + \",\" + str(x[\"LAST_DELIVERY_LONGITUDE\"])\n",
    "    )\n",
    "    result = g_client.directions(\n",
    "        source, destination, mode=\"driving\", avoid=\"ferries\", transit_mode=\"bus\"\n",
    "    )\n",
    "    distance = result[0][\"legs\"][0][\"distance\"][\"value\"]\n",
    "    time = result[0][\"legs\"][0][\"duration\"][\"value\"]\n",
    "    return distance / 1000, time / 60\n",
    "\n",
    "\n",
    "# Calculate the distance between the GPS location and the delivery location\n",
    "R = 6373.0  # approx radius of earth in km\n",
    "\n",
    "\n",
    "def haversine(x):\n",
    "    \"\"\"\n",
    "    Function to calculate distance between two location using Haversine distance formula\n",
    "    Args:\n",
    "        x (row iter): row iter from the lambda function call\n",
    "    Returns:\n",
    "        distance in km\n",
    "    \"\"\"\n",
    "    X = [\n",
    "        [radians(x[\"LAT\"]), radians(x[\"LON\"])],\n",
    "        [radians(x[\"LAST_DELIVERY_LATITUDE\"]), radians(x[\"LAST_DELIVERY_LONGITUDE\"])],\n",
    "    ]\n",
    "    distance_sklearn = R * dist.pairwise(X)\n",
    "    # print( np.array(distance_sklearn).item(1))\n",
    "    return np.array(distance_sklearn).item(1)\n",
    "\n",
    "\n",
    "def get_transit_details_osrm(x):\n",
    "    \"\"\"\n",
    "    Function to calculate ETA between two location using osrm distance formula\n",
    "    Args:\n",
    "        x (row iter): row iter from the lambda function call\n",
    "    Returns:\n",
    "        time in hours\n",
    "    \"\"\"\n",
    "    start_latitude = x[\"LAT\"]\n",
    "    start_longitude = x[\"LON\"]\n",
    "    end_latitude = x[\"LAST_DELIVERY_LATITUDE\"]\n",
    "    end_longitude = x[\"LAST_DELIVERY_LONGITUDE\"]\n",
    "    url = f\"http://router.project-osrm.org/route/v1/driving/{start_longitude},{start_latitude};{end_longitude},{end_latitude}?overview=false\"\n",
    "    response = requests.get(url).json()\n",
    "    distance = response.get(\"routes\", [])[0].get(\"distance\")\n",
    "    time = response.get(\"routes\", [])[0].get(\"duration\")\n",
    "    return time / 3600"
   ]
  },
  {
   "cell_type": "markdown",
   "id": "f2f87774",
   "metadata": {},
   "source": [
    "### Step 3: Constraint and sample creation\n",
    "\n",
    "Note: Since Google distance API free tier can support only limited number of requestes for free, scoring the entire data provided (~600k) is expensive and also time consuming"
   ]
  },
  {
   "cell_type": "markdown",
   "id": "0df671f5",
   "metadata": {},
   "source": [
    "A sample is created which is representative of all the profiles discussed earlier and also suit the minimal payload for API query with google. Make sure the distribution of the sample is representative."
   ]
  },
  {
   "cell_type": "raw",
   "id": "3a34824f",
   "metadata": {},
   "source": [
    "# # sampling of data\n",
    "subset_data = gps_shipment_data[['SHIPMENT_NUMBER','INDICATOR']].drop_duplicates()\n",
    "sample_ids = subset_data.sample(n=25)\n",
    "print(sample_ids['INDICATOR'].value_counts())\n",
    "sample_ids = sample_ids.drop('INDICATOR',axis=1).reset_index(drop=True)\n",
    "sample = sample_ids.merge(gps_shipment_data, on='SHIPMENT_NUMBER',how='left')\n",
    "\n",
    "# Capture distance between expected delivery location to \"current GPS location\", \n",
    "# similarly with expected time of arrival from Google Direction API\n",
    "\n",
    "\n",
    "gps_shipment_data[['DISTANCE_TO_DESTINATION','TIME_TO_DESTINATION']] = gps_shipment_data.apply(lambda x:\n",
    "                                                                                             get_transit_details_google(x),\n",
    "                                                                                            axis='columns',\n",
    "                                                                                          result_type='expand'\n",
    "                                                                                          )\n",
    "                                                                                          \n",
    "gps_shipment_data.to_csv('sample_1_final.csv')                                                                              "
   ]
  },
  {
   "cell_type": "code",
   "execution_count": 409,
   "id": "42a5c6c8",
   "metadata": {},
   "outputs": [
    {
     "data": {
      "text/plain": [
       "advanced_delivery                  1728\n",
       "late_delivery                       649\n",
       "threshold_delivery                  160\n",
       "incomplete_logs_potential_delay      13\n",
       "Name: INDICATOR, dtype: int64"
      ]
     },
     "execution_count": 409,
     "metadata": {},
     "output_type": "execute_result"
    }
   ],
   "source": [
    "sample = pd.read_csv(\"sample_1_final.csv\")\n",
    "sample[\"FORMATTED_DELIVERY_SCHEDULE_LATEST\"] = pd.to_datetime(\n",
    "    sample[\"FORMATTED_DELIVERY_SCHEDULE_LATEST\"]\n",
    ")\n",
    "sample[\"FORMATTED_GPS_TIMESTAMP\"] = pd.to_datetime(sample[\"FORMATTED_GPS_TIMESTAMP\"])\n",
    "sample[\"TIME_LEFT_TILL_SET_DELIVERY_SCHEDULE\"] = (\n",
    "    sample[\"FORMATTED_DELIVERY_SCHEDULE_LATEST\"] - sample[\"FORMATTED_GPS_TIMESTAMP\"]\n",
    ").dt.total_seconds() / 60\n",
    "\n",
    "sample[\"INDICATOR\"].value_counts()"
   ]
  },
  {
   "cell_type": "markdown",
   "id": "4c98d9e7",
   "metadata": {},
   "source": [
    "### Step 4: Analysis to identify the threshold for allowed range of time difference between target time and google ETA \n",
    "\n",
    "- Different threholds are set in iteration like 1%, 2%, 3%, 5%, 10%, 15%, 20% and 30% (of total ETA)\n",
    "- Eevry log in the GPS file is tested difference between target time left to reach destination and google ETA\n",
    "- If the difference is more than the selected threshold then we set an \"ALERT\" to send notification to shippers\n"
   ]
  },
  {
   "cell_type": "code",
   "execution_count": 410,
   "id": "9d3716c0",
   "metadata": {},
   "outputs": [],
   "source": [
    "time_threshold_df = (\n",
    "    sample.groupby(\"SHIPMENT_NUMBER\")[\"TIME_LEFT_TILL_SET_DELIVERY_SCHEDULE\"].max()\n",
    "    * 0.30\n",
    ").reset_index(name=\"TIME_THRESHOLD_FOR_DELAY_ALERT\")\n",
    "sample = sample.merge(time_threshold_df, on=\"SHIPMENT_NUMBER\", how=\"left\")"
   ]
  },
  {
   "cell_type": "code",
   "execution_count": 411,
   "id": "e8a8a236",
   "metadata": {},
   "outputs": [],
   "source": [
    "def delay_alert(x):\n",
    "    time_diff = (\n",
    "        x[\"TIME_LEFT_TILL_SET_DELIVERY_SCHEDULE\"] - x[\"TIME_TO_DESTINATION_MINS\"]\n",
    "    )\n",
    "    if time_diff > 0:\n",
    "        return 0\n",
    "    elif time_diff < 0 or time_diff == 0:\n",
    "        if abs(time_diff) > x[\"TIME_THRESHOLD_FOR_DELAY_ALERT\"]:\n",
    "            return 1\n",
    "        else:\n",
    "            return 0"
   ]
  },
  {
   "cell_type": "code",
   "execution_count": 412,
   "id": "0ff0d025",
   "metadata": {},
   "outputs": [],
   "source": [
    "sample[\"ALERT_INDICATOR\"] = sample.apply(lambda x: delay_alert(x), axis=1)"
   ]
  },
  {
   "cell_type": "code",
   "execution_count": 413,
   "id": "cce3eb70",
   "metadata": {},
   "outputs": [],
   "source": [
    "a = (\n",
    "    sample.groupby([\"SHIPMENT_NUMBER\", \"DELIVERED_LATE_BY_TIME?\"])[\"ALERT_INDICATOR\"]\n",
    "    .max()\n",
    "    .reset_index(name=\"ALERT\")\n",
    ")"
   ]
  },
  {
   "cell_type": "code",
   "execution_count": 414,
   "id": "eba2eece",
   "metadata": {},
   "outputs": [],
   "source": [
    "result = [\n",
    "    [\"1%\", 13 * 100 / 15, 7 * 100 / 9, 7 * 100 / 7],\n",
    "    [\"2%\", 12 * 100 / 15, 6 * 100 / 8, 6 * 100 / 7],\n",
    "    [\"3%\", 12 * 100 / 15, 6 * 100 / 8, 6 * 100 / 7],\n",
    "    [\"5%\", 13 * 100 / 15, 6 * 100 / 7, 6 * 100 / 7],\n",
    "    [\"10%\", 12 * 100 / 15, 5 * 100 / 6, 5 * 100 / 7],\n",
    "    [\"15%\", 12 * 100 / 15, 5 * 100 / 6, 5 * 100 / 7],\n",
    "    [\"20%\", 12 * 100 / 15, 5 * 100 / 6, 5 * 100 / 7],\n",
    "    [\"30%\", 12 * 100 / 15, 5 * 100 / 6, 5 * 100 / 7],\n",
    "]\n",
    "\n",
    "result_df = pd.DataFrame(\n",
    "    result, columns=[\"Threshold%\", \"Accuracy\", \"Precision(Delay)\", \"Recall(Delay)\"]\n",
    ")"
   ]
  },
  {
   "cell_type": "code",
   "execution_count": 415,
   "id": "dee6ad08",
   "metadata": {},
   "outputs": [
    {
     "data": {
      "text/html": [
       "<div>\n",
       "<style scoped>\n",
       "    .dataframe tbody tr th:only-of-type {\n",
       "        vertical-align: middle;\n",
       "    }\n",
       "\n",
       "    .dataframe tbody tr th {\n",
       "        vertical-align: top;\n",
       "    }\n",
       "\n",
       "    .dataframe thead th {\n",
       "        text-align: right;\n",
       "    }\n",
       "</style>\n",
       "<table border=\"1\" class=\"dataframe\">\n",
       "  <thead>\n",
       "    <tr style=\"text-align: right;\">\n",
       "      <th></th>\n",
       "      <th>Threshold%</th>\n",
       "      <th>Accuracy</th>\n",
       "      <th>Precision(Delay)</th>\n",
       "      <th>Recall(Delay)</th>\n",
       "    </tr>\n",
       "  </thead>\n",
       "  <tbody>\n",
       "    <tr>\n",
       "      <th>0</th>\n",
       "      <td>1%</td>\n",
       "      <td>86.666667</td>\n",
       "      <td>77.777778</td>\n",
       "      <td>100.000000</td>\n",
       "    </tr>\n",
       "    <tr>\n",
       "      <th>1</th>\n",
       "      <td>2%</td>\n",
       "      <td>80.000000</td>\n",
       "      <td>75.000000</td>\n",
       "      <td>85.714286</td>\n",
       "    </tr>\n",
       "    <tr>\n",
       "      <th>2</th>\n",
       "      <td>3%</td>\n",
       "      <td>80.000000</td>\n",
       "      <td>75.000000</td>\n",
       "      <td>85.714286</td>\n",
       "    </tr>\n",
       "    <tr>\n",
       "      <th>3</th>\n",
       "      <td>5%</td>\n",
       "      <td>86.666667</td>\n",
       "      <td>85.714286</td>\n",
       "      <td>85.714286</td>\n",
       "    </tr>\n",
       "    <tr>\n",
       "      <th>4</th>\n",
       "      <td>10%</td>\n",
       "      <td>80.000000</td>\n",
       "      <td>83.333333</td>\n",
       "      <td>71.428571</td>\n",
       "    </tr>\n",
       "    <tr>\n",
       "      <th>5</th>\n",
       "      <td>15%</td>\n",
       "      <td>80.000000</td>\n",
       "      <td>83.333333</td>\n",
       "      <td>71.428571</td>\n",
       "    </tr>\n",
       "    <tr>\n",
       "      <th>6</th>\n",
       "      <td>20%</td>\n",
       "      <td>80.000000</td>\n",
       "      <td>83.333333</td>\n",
       "      <td>71.428571</td>\n",
       "    </tr>\n",
       "    <tr>\n",
       "      <th>7</th>\n",
       "      <td>30%</td>\n",
       "      <td>80.000000</td>\n",
       "      <td>83.333333</td>\n",
       "      <td>71.428571</td>\n",
       "    </tr>\n",
       "  </tbody>\n",
       "</table>\n",
       "</div>"
      ],
      "text/plain": [
       "  Threshold%   Accuracy  Precision(Delay)  Recall(Delay)\n",
       "0         1%  86.666667         77.777778     100.000000\n",
       "1         2%  80.000000         75.000000      85.714286\n",
       "2         3%  80.000000         75.000000      85.714286\n",
       "3         5%  86.666667         85.714286      85.714286\n",
       "4        10%  80.000000         83.333333      71.428571\n",
       "5        15%  80.000000         83.333333      71.428571\n",
       "6        20%  80.000000         83.333333      71.428571\n",
       "7        30%  80.000000         83.333333      71.428571"
      ]
     },
     "execution_count": 415,
     "metadata": {},
     "output_type": "execute_result"
    }
   ],
   "source": [
    "result_df"
   ]
  },
  {
   "cell_type": "code",
   "execution_count": 416,
   "id": "793c73f9",
   "metadata": {},
   "outputs": [
    {
     "data": {
      "image/png": "[encoded data removed]",
      "text/plain": [
       "<Figure size 432x288 with 1 Axes>"
      ]
     },
     "metadata": {
      "needs_background": "light"
     },
     "output_type": "display_data"
    }
   ],
   "source": [
    "plt.bar(result_df[\"Threshold%\"], result_df[\"Accuracy\"])\n",
    "plt.show()"
   ]
  },
  {
   "cell_type": "code",
   "execution_count": 417,
   "id": "bef07d51",
   "metadata": {},
   "outputs": [
    {
     "data": {
      "text/plain": [
       "<BarContainer object of 8 artists>"
      ]
     },
     "execution_count": 417,
     "metadata": {},
     "output_type": "execute_result"
    },
    {
     "data": {
      "image/png": "[encoded data removed]",
      "text/plain": [
       "<Figure size 432x288 with 1 Axes>"
      ]
     },
     "metadata": {
      "needs_background": "light"
     },
     "output_type": "display_data"
    }
   ],
   "source": [
    "plt.bar(result_df[\"Threshold%\"], result_df[\"Precision(Delay)\"])"
   ]
  },
  {
   "cell_type": "code",
   "execution_count": 418,
   "id": "99fe7d6d",
   "metadata": {},
   "outputs": [
    {
     "name": "stderr",
     "output_type": "stream",
     "text": [
      "WARNING:matplotlib.legend:No artists with labels found to put in legend.  Note that artists whose label start with an underscore are ignored when legend() is called with no argument.\n"
     ]
    },
    {
     "data": {
      "text/plain": [
       "<matplotlib.legend.Legend at 0x7fbdc083cf70>"
      ]
     },
     "execution_count": 418,
     "metadata": {},
     "output_type": "execute_result"
    },
    {
     "data": {
      "image/png": "[encoded data removed]",
      "text/plain": [
       "<Figure size 432x288 with 1 Axes>"
      ]
     },
     "metadata": {
      "needs_background": "light"
     },
     "output_type": "display_data"
    }
   ],
   "source": [
    "plt.bar(result_df[\"Threshold%\"], result_df[\"Recall(Delay)\"])\n",
    "plt.legend()"
   ]
  },
  {
   "cell_type": "markdown",
   "id": "17844999",
   "metadata": {},
   "source": [
    "### -------- Result: Cut-off can be considered as 1% or 5% ---------"
   ]
  },
  {
   "cell_type": "code",
   "execution_count": 419,
   "id": "87cb4999",
   "metadata": {},
   "outputs": [
    {
     "data": {
      "text/plain": [
       "DELIVERED_LATE_BY_TIME?  ALERT\n",
       "No                       0        7\n",
       "Yes                      1        5\n",
       "                         0        2\n",
       "No                       1        1\n",
       "dtype: int64"
      ]
     },
     "execution_count": 419,
     "metadata": {},
     "output_type": "execute_result"
    }
   ],
   "source": [
    "# RESULT FOR 1% THRESHOLD TIME\n",
    "a[[\"DELIVERED_LATE_BY_TIME?\", \"ALERT\"]].value_counts()"
   ]
  },
  {
   "cell_type": "code",
   "execution_count": 420,
   "id": "84d935bc",
   "metadata": {},
   "outputs": [
    {
     "data": {
      "text/plain": [
       "DELIVERED_LATE_BY_TIME?  ALERT\n",
       "No                       0        7\n",
       "Yes                      1        5\n",
       "                         0        2\n",
       "No                       1        1\n",
       "dtype: int64"
      ]
     },
     "execution_count": 420,
     "metadata": {},
     "output_type": "execute_result"
    }
   ],
   "source": [
    "# RESULT FOR 2% THRESHOLD TIME\n",
    "a[[\"DELIVERED_LATE_BY_TIME?\", \"ALERT\"]].value_counts()"
   ]
  },
  {
   "cell_type": "code",
   "execution_count": 421,
   "id": "5dbc76fb",
   "metadata": {},
   "outputs": [
    {
     "data": {
      "text/plain": [
       "DELIVERED_LATE_BY_TIME?  ALERT\n",
       "No                       0        7\n",
       "Yes                      1        5\n",
       "                         0        2\n",
       "No                       1        1\n",
       "dtype: int64"
      ]
     },
     "execution_count": 421,
     "metadata": {},
     "output_type": "execute_result"
    }
   ],
   "source": [
    "# RESULT FOR 3% THRESHOLD TIME\n",
    "a[[\"DELIVERED_LATE_BY_TIME?\", \"ALERT\"]].value_counts()"
   ]
  },
  {
   "cell_type": "code",
   "execution_count": 422,
   "id": "b305caa3",
   "metadata": {},
   "outputs": [
    {
     "data": {
      "text/plain": [
       "DELIVERED_LATE_BY_TIME?  ALERT\n",
       "No                       0        7\n",
       "Yes                      1        5\n",
       "                         0        2\n",
       "No                       1        1\n",
       "dtype: int64"
      ]
     },
     "execution_count": 422,
     "metadata": {},
     "output_type": "execute_result"
    }
   ],
   "source": [
    "# RESULT FOR 5% THRESHOLD TIME\n",
    "a[[\"DELIVERED_LATE_BY_TIME?\", \"ALERT\"]].value_counts()"
   ]
  },
  {
   "cell_type": "code",
   "execution_count": 423,
   "id": "28b2a2cd",
   "metadata": {},
   "outputs": [
    {
     "data": {
      "text/plain": [
       "DELIVERED_LATE_BY_TIME?  ALERT\n",
       "No                       0        7\n",
       "Yes                      1        5\n",
       "                         0        2\n",
       "No                       1        1\n",
       "dtype: int64"
      ]
     },
     "execution_count": 423,
     "metadata": {},
     "output_type": "execute_result"
    }
   ],
   "source": [
    "# RESULT FOR 10% THRESHOLD TIME\n",
    "a[[\"DELIVERED_LATE_BY_TIME?\", \"ALERT\"]].value_counts()"
   ]
  },
  {
   "cell_type": "code",
   "execution_count": 424,
   "id": "db9e1751",
   "metadata": {},
   "outputs": [
    {
     "data": {
      "text/plain": [
       "DELIVERED_LATE_BY_TIME?  ALERT\n",
       "No                       0        7\n",
       "Yes                      1        5\n",
       "                         0        2\n",
       "No                       1        1\n",
       "dtype: int64"
      ]
     },
     "execution_count": 424,
     "metadata": {},
     "output_type": "execute_result"
    }
   ],
   "source": [
    "# RESULT FOR 15% THRESHOLD TIME\n",
    "a[[\"DELIVERED_LATE_BY_TIME?\", \"ALERT\"]].value_counts()"
   ]
  },
  {
   "cell_type": "code",
   "execution_count": 425,
   "id": "ca3c0eab",
   "metadata": {},
   "outputs": [
    {
     "data": {
      "text/plain": [
       "DELIVERED_LATE_BY_TIME?  ALERT\n",
       "No                       0        7\n",
       "Yes                      1        5\n",
       "                         0        2\n",
       "No                       1        1\n",
       "dtype: int64"
      ]
     },
     "execution_count": 425,
     "metadata": {},
     "output_type": "execute_result"
    }
   ],
   "source": [
    "# RESULT FOR 20% THRESHOLD TIME\n",
    "a[[\"DELIVERED_LATE_BY_TIME?\", \"ALERT\"]].value_counts()"
   ]
  },
  {
   "cell_type": "code",
   "execution_count": 426,
   "id": "c21b45f6",
   "metadata": {},
   "outputs": [
    {
     "data": {
      "text/plain": [
       "DELIVERED_LATE_BY_TIME?  ALERT\n",
       "No                       0        7\n",
       "Yes                      1        5\n",
       "                         0        2\n",
       "No                       1        1\n",
       "dtype: int64"
      ]
     },
     "execution_count": 426,
     "metadata": {},
     "output_type": "execute_result"
    }
   ],
   "source": [
    "# RESULT FOR 30% THRESHOLD TIME\n",
    "a[[\"DELIVERED_LATE_BY_TIME?\", \"ALERT\"]].value_counts()"
   ]
  },
  {
   "cell_type": "markdown",
   "id": "58f0c7cd",
   "metadata": {},
   "source": [
    "### Setp 5: Whom and When to send?\n",
    "\n",
    "As described the notification should be sent to: customers whose delivery is POTENTIAL to get delayed \n",
    "       \n",
    "        1. This is done by score the Google API distance and ETA\n",
    "        2. Calculate the difference between current time and expected time of delivery as \"TIME LEFT\"\n",
    "        3. Subtract \"TIME LEFT\" to Google API's \"ETA\" time\n",
    "        4. Difference should not exceed 5% of the total time estimated (in the forst row)\n",
    "        5. If the reading exceeds the threshold, send \"ALERT\"\n",
    "        6. Further business rules can be formed to control the frequncy of notification based on severity "
   ]
  },
  {
   "cell_type": "code",
   "execution_count": null,
   "id": "21184339",
   "metadata": {},
   "outputs": [],
   "source": []
  }
 ],
 "metadata": {
  "kernelspec": {
   "display_name": "Python 3 (ipykernel)",
   "language": "python",
   "name": "python3"
  },
  "language_info": {
   "codemirror_mode": {
    "name": "ipython",
    "version": 3
   },
   "file_extension": ".py",
   "mimetype": "text/x-python",
   "name": "python",
   "nbconvert_exporter": "python",
   "pygments_lexer": "ipython3",
   "version": "3.9.12"
  }
 },
 "nbformat": 4,
 "nbformat_minor": 5
}
